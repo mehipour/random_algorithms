{
 "metadata": {
  "language_info": {
   "codemirror_mode": {
    "name": "ipython",
    "version": 3
   },
   "file_extension": ".py",
   "mimetype": "text/x-python",
   "name": "python",
   "nbconvert_exporter": "python",
   "pygments_lexer": "ipython3",
   "version": "3.7.7-final"
  },
  "orig_nbformat": 2,
  "kernelspec": {
   "name": "python_defaultSpec_1600627484642",
   "display_name": "Python 3.7.7 64-bit ('base': conda)"
  }
 },
 "nbformat": 4,
 "nbformat_minor": 2,
 "cells": [
  {
   "cell_type": "markdown",
   "metadata": {},
   "source": [
    "# Popular Sorting Algorithms\n",
    "Created by: Mehrdad Pourfathi\n",
    "\n",
    "Date: 9/20/2020"
   ]
  },
  {
   "cell_type": "code",
   "execution_count": 18,
   "metadata": {},
   "outputs": [
    {
     "output_type": "execute_result",
     "data": {
      "text/plain": "[-1, 0, 1, 2, 3, 3, 4, 5, 6, 7]"
     },
     "metadata": {},
     "execution_count": 18
    }
   ],
   "source": [
    "# test case\n",
    "array = [4,3,6,3,-1,2,0,5,1,7]\n",
    "# sorted array would look like this:\n",
    "sorted(array)"
   ]
  },
  {
   "cell_type": "code",
   "execution_count": 24,
   "metadata": {},
   "outputs": [],
   "source": [
    "# helper functions\n",
    "def swap(array, i, j):\n",
    "    '''swap elements ith and jth of the array.'''\n",
    "    array[i], array[j] = array[j], array[i]"
   ]
  },
  {
   "cell_type": "code",
   "execution_count": 19,
   "metadata": {
    "tags": []
   },
   "outputs": [
    {
     "output_type": "stream",
     "name": "stdout",
     "text": "[-1, 0, 1, 2, 3, 3, 4, 5, 6, 7]\n"
    }
   ],
   "source": [
    "# insertion sort\n",
    "def insertion_sort(array):\n",
    "    '''insertion sort algorithm.'''\n",
    "    for i in range(1,len(array)):\n",
    "\n",
    "        for j in range(i,0,-1):\n",
    "            if array[j] < array[j-1]:\n",
    "                swap(array, j, j-1)\n",
    "    return array\n",
    "\n",
    "    \n",
    "print(insertion_sort(array))"
   ]
  },
  {
   "cell_type": "code",
   "execution_count": 20,
   "metadata": {
    "tags": []
   },
   "outputs": [
    {
     "output_type": "stream",
     "name": "stdout",
     "text": "[-1, 0, 1, 2, 3, 3, 4, 5, 6, 7]\n"
    }
   ],
   "source": [
    "def selection_sort(array):\n",
    "    '''selection sort algorithm.'''\n",
    "    for i in range(len(array)):\n",
    "        smallest_idx = i\n",
    "        for j in range(i, len(array)):\n",
    "            if array[j] < array[smallest_idx]:\n",
    "                smallest_idx = j\n",
    "        swap(array, i, smallest_idx)\n",
    "    return array\n",
    "\n",
    "\n",
    "print(selection_sort(array))"
   ]
  },
  {
   "cell_type": "code",
   "execution_count": 23,
   "metadata": {
    "tags": []
   },
   "outputs": [
    {
     "output_type": "stream",
     "name": "stdout",
     "text": "[-1, 0, 1, 2, 3, 3, 4, 5, 6, 7]\n"
    }
   ],
   "source": [
    "def bubble_sort(array):\n",
    "    '''bubble sort algorithm.'''\n",
    "    is_swapped = True\n",
    "    while is_swapped:\n",
    "        is_swapped = False\n",
    "        for i in range(len(array)-1):\n",
    "            if array[i] > array[i+1]:\n",
    "                swap(array, i, i+1)\n",
    "                is_swapped = True\n",
    "    return array\n",
    "\n",
    "    \n",
    "print(bubble_sort(array))"
   ]
  },
  {
   "cell_type": "code",
   "execution_count": 27,
   "metadata": {
    "tags": []
   },
   "outputs": [
    {
     "output_type": "stream",
     "name": "stdout",
     "text": "[-1, 0, 1, 2, 3, 3, 4, 5, 6, 7]\n"
    }
   ],
   "source": [
    "# quicksort algorithm\n",
    "def quick_sort(array):\n",
    "    '''runs the quick sort algorithm.'''\n",
    "    quick_sort_helper(array, 0, len(array)-1)\n",
    "    return array\n",
    "\n",
    "\n",
    "def quick_sort_helper(array, start_idx, end_idx):\n",
    "    '''quicksort algorithm.'''\n",
    "    if start_idx >= end_idx:\n",
    "        return array\n",
    "\n",
    "    pivot_idx = partition(array, start_idx, end_idx)\n",
    "    quick_sort_helper(array, start_idx, pivot_idx-1)\n",
    "    quick_sort_helper(array, pivot_idx+1, start_idx)\n",
    "    return array\n",
    "\n",
    "\n",
    "def partition(array, start_idx, end_idx):\n",
    "    '''function to partition array into two sub arrays for quicksort algorithm.'''\n",
    "    pivot_idx = start_idx\n",
    "    left_idx = start_idx + 1\n",
    "    right_idx = end_idx \n",
    "\n",
    "    while left_idx <= right_idx:\n",
    "\n",
    "        if array[left_idx] > array[pivot_idx] and array[right_idx] < array[pivot_idx]:\n",
    "            swap[array, left_idx, right_idx]\n",
    "\n",
    "        if array[left_idx] <= array[pivot_idx]:\n",
    "            left_idx += 1\n",
    "\n",
    "        if array[right_idx] >= array[pivot_idx]:\n",
    "            right_idx -= 1 \n",
    "\n",
    "    swap(array, right_idx, pivot_idx)\n",
    "    return right_idx\n",
    "\n",
    "\n",
    "print(quick_sort(array))"
   ]
  },
  {
   "cell_type": "code",
   "execution_count": null,
   "metadata": {},
   "outputs": [],
   "source": []
  }
 ]
}